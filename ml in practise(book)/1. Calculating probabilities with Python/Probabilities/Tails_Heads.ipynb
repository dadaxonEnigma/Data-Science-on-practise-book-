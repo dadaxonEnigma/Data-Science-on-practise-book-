{
 "cells": [
  {
   "cell_type": "markdown",
   "id": "4d026897-361c-445a-867b-73f6ce8dbbbf",
   "metadata": {},
   "source": [
    "## Вероятность для честной монеты"
   ]
  },
  {
   "cell_type": "code",
   "execution_count": 45,
   "id": "137e01e9-e6d2-41aa-93d7-b1a0a35c3e5c",
   "metadata": {},
   "outputs": [],
   "source": [
    "# Создание пространства исходов для подбрасывания монеты\n",
    "sample_space = {'Heads', 'Tails'}"
   ]
  },
  {
   "cell_type": "code",
   "execution_count": 50,
   "id": "841832a3-8f16-41cf-8a95-8012766010c7",
   "metadata": {},
   "outputs": [
    {
     "name": "stdout",
     "output_type": "stream",
     "text": [
      "Probability of choosing heads is 0.5\n"
     ]
    }
   ],
   "source": [
    "# Вычисление вероятности выпадения орла\n",
    "\n",
    "probability_heads = 1 / len(sample_space)\n",
    "print(f'Probability of choosing heads is {probability_heads}')"
   ]
  },
  {
   "cell_type": "code",
   "execution_count": 52,
   "id": "1979fb5c-887f-4a5c-b5c5-44a489c080e4",
   "metadata": {},
   "outputs": [],
   "source": [
    "# Определение условий событий\n",
    "def is_heads_or_tails(outcome): return outcome in {'Heads', 'Tails'}\n",
    "def is_neither(outcome): return not outcome in {'Heads', 'Tails'}"
   ]
  },
  {
   "cell_type": "code",
   "execution_count": 54,
   "id": "2bad6b32-19a8-4c58-beba-cb877d8a62d8",
   "metadata": {},
   "outputs": [],
   "source": [
    "# Определение дополнительных условий событий\n",
    "def is_heads(outcome): return outcome == 'Heads'\n",
    "def is_tails(outcome): return outcome == 'Tails'"
   ]
  },
  {
   "cell_type": "code",
   "execution_count": 56,
   "id": "7188ede6-8ad1-4727-977c-32aa27ac9617",
   "metadata": {},
   "outputs": [],
   "source": [
    "# Определение функции выявления события\n",
    "def get_matching_event(event_condition, sample_space):\n",
    "    return set([outcome for outcome in sample_space\n",
    "    if event_condition(outcome)])"
   ]
  },
  {
   "cell_type": "code",
   "execution_count": 60,
   "id": "a7394b27-55f9-431e-bf12-286a95a1c6c6",
   "metadata": {},
   "outputs": [
    {
     "name": "stdout",
     "output_type": "stream",
     "text": [
      "Event Condition: is_heads_or_tails\n",
      "Event: {'Heads', 'Tails'}\n",
      "\n",
      "Event Condition: is_heads\n",
      "Event: {'Heads'}\n",
      "\n",
      "Event Condition: is_tails\n",
      "Event: {'Tails'}\n",
      "\n",
      "Event Condition: is_neither\n",
      "Event: set()\n",
      "\n"
     ]
    }
   ],
   "source": [
    "# Выявление событий на основе их условий\n",
    "event_conditions = [is_heads_or_tails, is_heads,is_tails,is_neither]\n",
    "\n",
    "for event_condition in event_conditions:\n",
    "    print(f'Event Condition: {event_condition.__name__}')\n",
    "    event = get_matching_event(event_condition, sample_space)\n",
    "    print(f\"Event: {event}\\n\")"
   ]
  },
  {
   "cell_type": "code",
   "execution_count": 62,
   "id": "839715a1-7976-4d8a-8a60-b6c212b37e43",
   "metadata": {},
   "outputs": [
    {
     "name": "stdout",
     "output_type": "stream",
     "text": [
      "Probability of event arising from 'is_heads_or_tails' is 1.0\n",
      "Probability of event arising from 'is_heads' is 0.5\n",
      "Probability of event arising from 'is_tails' is 0.5\n",
      "Probability of event arising from 'is_neither' is 0.0\n"
     ]
    }
   ],
   "source": [
    "# Вычисление вероятностей событий\n",
    "def compute_probability(event_condition, generic_sample_space):\n",
    " event = get_matching_event(event_condition, generic_sample_space)\n",
    " return len(event) / len(generic_sample_space)\n",
    "for event_condition in event_conditions:\n",
    " prob = compute_probability(event_condition, sample_space)\n",
    " name = event_condition.__name__\n",
    " print(f\"Probability of event arising from '{name}' is {prob}\")"
   ]
  },
  {
   "cell_type": "markdown",
   "id": "705ad295-f31a-4ae7-a142-034af3f751a2",
   "metadata": {},
   "source": [
    "## Анализ несимметричной монеты"
   ]
  },
  {
   "cell_type": "code",
   "execution_count": 72,
   "id": "994262ba-7a4f-457d-aa19-25530d0c7edd",
   "metadata": {},
   "outputs": [],
   "source": [
    "# Представление пространства взвешенных исходов\n",
    "weighted_sample_space = {'Heads': 4, 'Tails': 1}"
   ]
  },
  {
   "cell_type": "code",
   "execution_count": 78,
   "id": "8f500343-2d73-4279-9401-8bc9e9b0e30f",
   "metadata": {},
   "outputs": [],
   "source": [
    "# Проверка размера пространства взвешенных исходов\n",
    "sample_space_size = sum(weighted_sample_space.values())\n",
    "assert sample_space_size"
   ]
  },
  {
   "cell_type": "code",
   "execution_count": 82,
   "id": "459e2925-594b-44ad-b125-ccebe6b5dca0",
   "metadata": {},
   "outputs": [],
   "source": [
    "# Проверка размера взвешенного события\n",
    "event = get_matching_event(is_heads_or_tails, weighted_sample_space)\n",
    "event_size = sum(weighted_sample_space[outcome] for outcome in event)\n",
    "assert event_size == 5"
   ]
  },
  {
   "cell_type": "code",
   "execution_count": 86,
   "id": "8233954f-061c-43b7-9cb8-046da36f28d0",
   "metadata": {},
   "outputs": [],
   "source": [
    "# Определение обобщенной функции вычисления вероятности события\n",
    "def compute_event_probability(event_condition, generic_sample_space):\n",
    "    event = get_matching_event(event_condition, generic_sample_space)\n",
    "    if type(generic_sample_space) == type(set()):\n",
    "        return len(event) / len(generic_sample_space)\n",
    "    event_size = sum(generic_sample_space[outcome]\n",
    "        for outcome in event)\n",
    "    return event_size / sum(generic_sample_space.values())"
   ]
  },
  {
   "cell_type": "code",
   "execution_count": 92,
   "id": "b75667ab-675c-495c-a915-57b0476c3210",
   "metadata": {},
   "outputs": [
    {
     "name": "stdout",
     "output_type": "stream",
     "text": [
      "Probability of event arising from 'is_heads_or_tails' is 1.0\n",
      "Probability of event arising from 'is_heads' is 0.8\n",
      "Probability of event arising from 'is_tails' is 0.2\n",
      "Probability of event arising from 'is_neither' is 0.0\n"
     ]
    }
   ],
   "source": [
    "# Вычисление вероятностей взвешенных событий\n",
    "for event_condition in event_conditions:\n",
    "    prob = compute_event_probability(event_condition, weighted_sample_space)\n",
    "    name = event_condition.__name__\n",
    "    print(f\"Probability of event arising from '{name}' is {prob}\")"
   ]
  }
 ],
 "metadata": {
  "kernelspec": {
   "display_name": "Python 3 (ipykernel)",
   "language": "python",
   "name": "python3"
  },
  "language_info": {
   "codemirror_mode": {
    "name": "ipython",
    "version": 3
   },
   "file_extension": ".py",
   "mimetype": "text/x-python",
   "name": "python",
   "nbconvert_exporter": "python",
   "pygments_lexer": "ipython3",
   "version": "3.12.4"
  }
 },
 "nbformat": 4,
 "nbformat_minor": 5
}
