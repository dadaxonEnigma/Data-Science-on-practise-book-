{
 "cells": [
  {
   "cell_type": "code",
   "execution_count": 1,
   "id": "137e01e9-e6d2-41aa-93d7-b1a0a35c3e5c",
   "metadata": {},
   "outputs": [],
   "source": [
    "sample_space = {'Heads', 'Tails'}"
   ]
  },
  {
   "cell_type": "code",
   "execution_count": 3,
   "id": "841832a3-8f16-41cf-8a95-8012766010c7",
   "metadata": {},
   "outputs": [
    {
     "name": "stdout",
     "output_type": "stream",
     "text": [
      "Probability of choosing heads is 0.5\n"
     ]
    }
   ],
   "source": [
    "probability_heads = 1 / len(sample_space)\n",
    "print(f'Probability of choosing heads is {probability_heads}')"
   ]
  },
  {
   "cell_type": "code",
   "execution_count": 7,
   "id": "1979fb5c-887f-4a5c-b5c5-44a489c080e4",
   "metadata": {},
   "outputs": [],
   "source": [
    "def is_heads_or_tails(outcome): return outcome in {'Heads', 'Tails'}\n",
    "def is_neither(outcome): return outcome in {'Heads', 'Tails'}"
   ]
  },
  {
   "cell_type": "code",
   "execution_count": 9,
   "id": "2bad6b32-19a8-4c58-beba-cb877d8a62d8",
   "metadata": {},
   "outputs": [],
   "source": [
    "def is_heads(outcome): return outcome == 'Heads'\n",
    "def is_tails(outcome): return outcome == 'Tails'"
   ]
  },
  {
   "cell_type": "code",
   "execution_count": 13,
   "id": "7188ede6-8ad1-4727-977c-32aa27ac9617",
   "metadata": {},
   "outputs": [],
   "source": [
    "def get_matching_event(event_condition, sample_space):\n",
    " return set([outcome for outcome in sample_space\n",
    " if event_condition(outcome)])"
   ]
  },
  {
   "cell_type": "code",
   "execution_count": null,
   "id": "a7394b27-55f9-431e-bf12-286a95a1c6c6",
   "metadata": {},
   "outputs": [],
   "source": [
    "event_conditions = [is_heads_or_tails, is_heads,is_tails,is_neither]\n"
   ]
  }
 ],
 "metadata": {
  "kernelspec": {
   "display_name": "Python 3 (ipykernel)",
   "language": "python",
   "name": "python3"
  },
  "language_info": {
   "codemirror_mode": {
    "name": "ipython",
    "version": 3
   },
   "file_extension": ".py",
   "mimetype": "text/x-python",
   "name": "python",
   "nbconvert_exporter": "python",
   "pygments_lexer": "ipython3",
   "version": "3.12.4"
  }
 },
 "nbformat": 4,
 "nbformat_minor": 5
}
