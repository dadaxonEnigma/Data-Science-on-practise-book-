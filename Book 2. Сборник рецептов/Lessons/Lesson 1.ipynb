{
 "cells": [
  {
   "cell_type": "markdown",
   "id": "ff582142-f07a-4098-a7b0-7215827fc9eb",
   "metadata": {},
   "source": [
    "### 1.1 Создание вектора"
   ]
  },
  {
   "cell_type": "code",
   "execution_count": 5,
   "id": "53a8e759-ccd2-4b57-bc49-3d971d6cece6",
   "metadata": {},
   "outputs": [],
   "source": [
    "import numpy as np"
   ]
  },
  {
   "cell_type": "code",
   "execution_count": 7,
   "id": "1bf9cb85-d90d-49b1-bb93-43bda83d0135",
   "metadata": {},
   "outputs": [
    {
     "data": {
      "text/plain": [
       "(array([1, 2, 3]),\n",
       " array([[1],\n",
       "        [2],\n",
       "        [3]]))"
      ]
     },
     "execution_count": 7,
     "metadata": {},
     "output_type": "execute_result"
    }
   ],
   "source": [
    "vector_rw = np.array([1,2,3])\n",
    "vector_column = np.array([[1],\n",
    "                         [2],\n",
    "                         [3]])\n",
    "vector_rw, vector_column"
   ]
  },
  {
   "cell_type": "markdown",
   "id": "124178af-d361-4cc9-a266-93652f906d4d",
   "metadata": {},
   "source": [
    "### 1.2 Создание матрицы"
   ]
  },
  {
   "cell_type": "code",
   "execution_count": 9,
   "id": "f7c2abb4-5f86-4035-b6aa-959b7999a9c3",
   "metadata": {},
   "outputs": [
    {
     "data": {
      "text/plain": [
       "(numpy.ndarray, numpy.matrix)"
      ]
     },
     "execution_count": 9,
     "metadata": {},
     "output_type": "execute_result"
    }
   ],
   "source": [
    "# Способ 1\n",
    "matrix = np.array([[1,2],\n",
    "                 [1,2],\n",
    "                 [1,2]])\n",
    "matrix\n",
    "\n",
    "# Способ 2\n",
    "matrix_object = np.mat([[1,2],\n",
    "                         [1,2],\n",
    "                         [1,2]])\n",
    "\n",
    "type(matrix), type(matrix_object)"
   ]
  },
  {
   "cell_type": "markdown",
   "id": "ee699415-954d-4be2-8b62-ed4a4bc705c3",
   "metadata": {},
   "source": [
    "### 1.3 Создание разреженной матрицы"
   ]
  },
  {
   "cell_type": "code",
   "execution_count": 12,
   "id": "6f1b173d-0da8-49ff-a9bf-9fdf154c0d46",
   "metadata": {},
   "outputs": [
    {
     "name": "stdout",
     "output_type": "stream",
     "text": [
      "  (1, 1)\t1\n",
      "  (2, 0)\t3\n"
     ]
    }
   ],
   "source": [
    "from scipy import sparse\n",
    "sparse_matrix = np.array([[0,0],\n",
    "                          [0,1],\n",
    "                          [3,0],])\n",
    "csr_matrix = sparse.csr_matrix(sparse_matrix)\n",
    "print(csr_matrix)"
   ]
  },
  {
   "cell_type": "code",
   "execution_count": 16,
   "id": "c93550f7-4ec5-41d5-a3a6-4c193fe8aad7",
   "metadata": {},
   "outputs": [
    {
     "name": "stdout",
     "output_type": "stream",
     "text": [
      "  (2, 0)\t2\n",
      "  (1, 5)\t5\n",
      "  (2, 8)\t6\n"
     ]
    }
   ],
   "source": [
    "matrix_large = np.array([[0,0,0,0,0,0,0,0,0,0],\n",
    "                        [0,0,0,0,0,5,0,0,0,0],\n",
    "                        [2,0,0,0,0,0,0,0,6,0],])\n",
    "matrix_large_csr = sparse.csc_matrix(matrix_large)\n",
    "print(matrix_large_csr)"
   ]
  },
  {
   "cell_type": "markdown",
   "id": "54e8e108-53c8-44fc-b2ac-e0799640decb",
   "metadata": {},
   "source": [
    "### 1.4 Предварительноe распределение массивов в Numpy (np.zeros) (np.full(shape,fill_value))"
   ]
  },
  {
   "cell_type": "code",
   "execution_count": 20,
   "id": "5a633497-d00b-42bc-9163-157771ed6081",
   "metadata": {},
   "outputs": [
    {
     "data": {
      "text/plain": [
       "(array([0., 0., 0., 0., 0.]),\n",
       " array([[2, 2, 2],\n",
       "        [2, 2, 2],\n",
       "        [2, 2, 2]]))"
      ]
     },
     "execution_count": 20,
     "metadata": {},
     "output_type": "execute_result"
    }
   ],
   "source": [
    "vector = np.zeros(shape=5)\n",
    "matrix = np.full(shape=(3,3), fill_value=2)\n",
    "vector, matrix"
   ]
  },
  {
   "cell_type": "markdown",
   "id": "bbcd8e73-01b4-464c-8992-70d62ee8ec71",
   "metadata": {},
   "source": [
    "### 1.5 Обращение к элементу массива"
   ]
  },
  {
   "cell_type": "code",
   "execution_count": 23,
   "id": "94949ba0-757f-4107-99cf-4df1ea42095d",
   "metadata": {},
   "outputs": [
    {
     "data": {
      "text/plain": [
       "6"
      ]
     },
     "execution_count": 23,
     "metadata": {},
     "output_type": "execute_result"
    }
   ],
   "source": [
    "vector = np.array([1,2,3,4,5,6,7,8,9,10])\n",
    "matrix = np.array([[1,2,3,4],\n",
    "                  [5,6,7,8],\n",
    "                  [9,10,11,12],])\n",
    "matrix[1,1]"
   ]
  },
  {
   "cell_type": "code",
   "execution_count": 25,
   "id": "ceeaf555-6025-4a2f-991e-022dcd109fc8",
   "metadata": {},
   "outputs": [
    {
     "data": {
      "text/plain": [
       "array([[ 5,  6,  7,  8],\n",
       "       [ 9, 10, 11, 12]])"
      ]
     },
     "execution_count": 25,
     "metadata": {},
     "output_type": "execute_result"
    }
   ],
   "source": [
    "vector[1::2]\n",
    "matrix[1:,:]"
   ]
  },
  {
   "cell_type": "markdown",
   "id": "05001716-c82f-4011-a905-d57d7502c3a3",
   "metadata": {},
   "source": [
    "### 1.6 Описание матрицы "
   ]
  },
  {
   "cell_type": "code",
   "execution_count": 28,
   "id": "6c10de4f-27ce-4493-8eb2-f82b9ed9b4ad",
   "metadata": {},
   "outputs": [
    {
     "data": {
      "text/plain": [
       "((3, 4), 12, 2)"
      ]
     },
     "execution_count": 28,
     "metadata": {},
     "output_type": "execute_result"
    }
   ],
   "source": [
    "#shape \n",
    "matrix.shape, matrix.size, matrix.ndim"
   ]
  },
  {
   "cell_type": "markdown",
   "id": "9693290c-3791-40a2-8c47-4fcb5c53ab30",
   "metadata": {},
   "source": [
    "### 1.7 Использование функции для каждого элемента"
   ]
  },
  {
   "cell_type": "code",
   "execution_count": 31,
   "id": "4cfc77e2-0987-4abd-aedc-dcfcf373f865",
   "metadata": {},
   "outputs": [
    {
     "data": {
      "text/plain": [
       "array([[11, 12, 13, 14],\n",
       "       [15, 16, 17, 18],\n",
       "       [19, 20, 21, 22]])"
      ]
     },
     "execution_count": 31,
     "metadata": {},
     "output_type": "execute_result"
    }
   ],
   "source": [
    "add_100 = lambda x: x + 100\n",
    "\n",
    "vectorized_add_100 = np.vectorize(add_100)\n",
    "vectorized_add_100(matrix)\n",
    "\n",
    "# метод транслирование\n",
    "matrix + 10"
   ]
  },
  {
   "cell_type": "markdown",
   "id": "aeadc8a2-4201-415c-82bf-d3bc8d3419ad",
   "metadata": {},
   "source": [
    "## 1.8 Поиск наибольших и наименьших значени"
   ]
  },
  {
   "cell_type": "code",
   "execution_count": 34,
   "id": "48bc8331-3a1d-4280-9ef2-e6139289d1a7",
   "metadata": {},
   "outputs": [
    {
     "name": "stdout",
     "output_type": "stream",
     "text": [
      "[ 4  8 12]\n",
      "[ 9 10 11 12]\n"
     ]
    }
   ],
   "source": [
    "np.max(matrix), np.min(matrix)\n",
    "print(np.max(matrix,axis=1))\n",
    "print(np.max(matrix,axis=0))"
   ]
  },
  {
   "cell_type": "markdown",
   "id": "945bc73f-5495-43f2-a3c6-0180f2f258db",
   "metadata": {},
   "source": [
    "### 1.9 Вычиление среднего значения, дисперсии и стандартного отклонения"
   ]
  },
  {
   "cell_type": "code",
   "execution_count": 37,
   "id": "b2f1f4ad-1b6f-4849-a90a-da43f2f8cbb7",
   "metadata": {},
   "outputs": [
    {
     "name": "stdout",
     "output_type": "stream",
     "text": [
      "Mean: 1.0\n",
      "Mean: 0.0\n",
      "Mean: 0.0\n"
     ]
    }
   ],
   "source": [
    "norm_matrix = np.array([[1,1,1]])\n",
    "mean = np.mean(norm_matrix)\n",
    "dis = np.var(norm_matrix)\n",
    "std = np.std(norm_matrix)\n",
    "print(f'Mean: {mean}')\n",
    "print(f'Mean: {dis}')\n",
    "print(f'Mean: {std}')"
   ]
  },
  {
   "cell_type": "markdown",
   "id": "d22fca68-89b0-468f-835b-e3ca5db38938",
   "metadata": {},
   "source": [
    "### 1.10 Изменение формы массива"
   ]
  },
  {
   "cell_type": "code",
   "execution_count": 40,
   "id": "182093f0-1c83-4e9a-be78-944e8757a29d",
   "metadata": {},
   "outputs": [
    {
     "data": {
      "text/plain": [
       "array([[ 1,  2],\n",
       "       [ 3,  4],\n",
       "       [ 5,  6],\n",
       "       [ 7,  8],\n",
       "       [ 9, 10],\n",
       "       [11, 12]])"
      ]
     },
     "execution_count": 40,
     "metadata": {},
     "output_type": "execute_result"
    }
   ],
   "source": [
    "reshaped_matrix = matrix.reshape(6,2)\n",
    "reshaped_matrix"
   ]
  },
  {
   "cell_type": "code",
   "execution_count": 42,
   "id": "531b9116-9491-4d9b-aa36-d3977c2be7f4",
   "metadata": {},
   "outputs": [
    {
     "data": {
      "text/plain": [
       "array([[ 1,  2,  3,  4,  5,  6,  7,  8,  9, 10, 11, 12]])"
      ]
     },
     "execution_count": 42,
     "metadata": {},
     "output_type": "execute_result"
    }
   ],
   "source": [
    "reshaped_matrix = matrix.reshape(1,-1)\n",
    "reshaped_matrix"
   ]
  },
  {
   "cell_type": "markdown",
   "id": "d2dd549b-5920-42ed-9d40-e2b704fdfd57",
   "metadata": {},
   "source": [
    "### 1.11 Транспонирование вектора и матрицы"
   ]
  },
  {
   "cell_type": "code",
   "execution_count": 51,
   "id": "d5863ac1-e270-43c4-8180-c44c121ef382",
   "metadata": {},
   "outputs": [
    {
     "name": "stdout",
     "output_type": "stream",
     "text": [
      "[[ 1  2  3  4]\n",
      " [ 5  6  7  8]\n",
      " [ 9 10 11 12]]\n",
      "[[ 1  5  9]\n",
      " [ 2  6 10]\n",
      " [ 3  7 11]\n",
      " [ 4  8 12]]\n"
     ]
    }
   ],
   "source": [
    "print(matrix)\n",
    "print(matrix.T)"
   ]
  },
  {
   "cell_type": "code",
   "execution_count": 69,
   "id": "d49fb18d-3a86-47a4-9ee3-135870d57348",
   "metadata": {},
   "outputs": [
    {
     "data": {
      "text/plain": [
       "array([[1],\n",
       "       [2],\n",
       "       [3],\n",
       "       [4],\n",
       "       [5]])"
      ]
     },
     "execution_count": 69,
     "metadata": {},
     "output_type": "execute_result"
    }
   ],
   "source": [
    "np.array([[1,2,3,4,5]]).T"
   ]
  },
  {
   "cell_type": "markdown",
   "id": "03290e13-0725-42d1-b8a6-deca59513f81",
   "metadata": {},
   "source": [
    "### 1.12 Преобразование матрицы в одномерный вектор"
   ]
  },
  {
   "cell_type": "code",
   "execution_count": 96,
   "id": "8741ff88-3ec9-4028-b9b5-d8982bf53bc7",
   "metadata": {},
   "outputs": [
    {
     "name": "stdout",
     "output_type": "stream",
     "text": [
      "(12,)\n",
      "(1, 12)\n"
     ]
    }
   ],
   "source": [
    "print(matrix.flatten().shape)\n",
    "print(matrix.reshape(1,-1).shape)"
   ]
  },
  {
   "cell_type": "code",
   "execution_count": 106,
   "id": "1cb48f20-3fb4-457d-b44b-754611ba79be",
   "metadata": {},
   "outputs": [
    {
     "data": {
      "text/plain": [
       "array([1, 2, 3, 4, 5, 6, 7, 8])"
      ]
     },
     "execution_count": 106,
     "metadata": {},
     "output_type": "execute_result"
    }
   ],
   "source": [
    "# ravel for list of matrix\n",
    "matrix_a = np.array([[1,2],\n",
    "                    [3,4]])\n",
    "matrix_b = np.array([[5,6],\n",
    "                    [7,8]])\n",
    "matrix_list = [matrix_a, matrix_b]\n",
    "np.ravel(matrix_list)"
   ]
  },
  {
   "cell_type": "markdown",
   "id": "e7e9e4f1-88fd-49a7-b9bb-5f525d19a5b3",
   "metadata": {},
   "source": [
    "### 1.13 Определение ранга матрицы"
   ]
  },
  {
   "cell_type": "code",
   "execution_count": 109,
   "id": "a2017903-23c9-44e8-bfc0-fee4358c3522",
   "metadata": {},
   "outputs": [
    {
     "data": {
      "text/plain": [
       "2"
      ]
     },
     "execution_count": 109,
     "metadata": {},
     "output_type": "execute_result"
    }
   ],
   "source": [
    "np.linalg.matrix_rank(matrix)"
   ]
  },
  {
   "cell_type": "markdown",
   "id": "c5b5dc8e-2394-4597-8b37-72a577e74798",
   "metadata": {},
   "source": [
    "### 1.14 Вывод диагонали матрицы "
   ]
  },
  {
   "cell_type": "code",
   "execution_count": 122,
   "id": "bdd7d9c0-8a71-48ff-b1a6-35c505a58fb3",
   "metadata": {},
   "outputs": [
    {
     "name": "stdout",
     "output_type": "stream",
     "text": [
      "[[ 1  2  3  4]\n",
      " [ 5  6  7  8]\n",
      " [ 9 10 11 12]]\n",
      "[ 1  6 11]\n",
      "[ 2  7 12]\n",
      "[ 5 10]\n"
     ]
    }
   ],
   "source": [
    "print(matrix)\n",
    "# главный диагональ\n",
    "print(matrix.diagonal())\n",
    "# побочный диагональ\n",
    "print(matrix.diagonal(offset=1))\n",
    "print(matrix.diagonal(offset=-1))"
   ]
  },
  {
   "cell_type": "markdown",
   "id": "4a14f15f-1ed8-4c13-9865-08c3b92c66e1",
   "metadata": {},
   "source": [
    "### 1.16 Вычисление скалярного произведения "
   ]
  },
  {
   "cell_type": "code",
   "execution_count": 131,
   "id": "7bada65f-9f9e-4629-b60f-1aeff9c8b042",
   "metadata": {},
   "outputs": [
    {
     "data": {
      "text/plain": [
       "array([[19, 22],\n",
       "       [43, 50]])"
      ]
     },
     "execution_count": 131,
     "metadata": {},
     "output_type": "execute_result"
    }
   ],
   "source": [
    "np.dot(matrix_a,matrix_b)\n",
    "matrix_a @ matrix_b"
   ]
  },
  {
   "cell_type": "markdown",
   "id": "c8bc68ed-c853-4227-8403-bcc56b8a017b",
   "metadata": {},
   "source": [
    "### 1.20 Генерация псевдослуайных значений "
   ]
  },
  {
   "cell_type": "code",
   "execution_count": 168,
   "id": "e1a4036f-7aa6-4501-b624-5798fab78e5e",
   "metadata": {},
   "outputs": [
    {
     "data": {
      "text/plain": [
       "array([0.5488135 , 0.71518937, 0.60276338, 0.54488318, 0.4236548 ,\n",
       "       0.64589411, 0.43758721, 0.891773  , 0.96366276, 0.38344152])"
      ]
     },
     "execution_count": 168,
     "metadata": {},
     "output_type": "execute_result"
    }
   ],
   "source": [
    "# Сгенерировамь мри случайных дробных числа в диапазоне ом 0.0 до 1.0 \n",
    "np.random.seed(0)\n",
    "np.random.random(10)"
   ]
  },
  {
   "cell_type": "code",
   "execution_count": 332,
   "id": "a01d9c01-f715-4161-9b1d-c10500c18483",
   "metadata": {},
   "outputs": [
    {
     "name": "stdout",
     "output_type": "stream",
     "text": [
      "2.6381811916545836\n"
     ]
    }
   ],
   "source": [
    "# Сгенерировамь мри случайных целых в диапазоне ом 0 до 10 \n",
    "ran2=np.random.randint(0,11,5)\n",
    "print(ran2.std())"
   ]
  },
  {
   "cell_type": "code",
   "execution_count": 330,
   "id": "8b7bc45f-fc7b-4dd0-9197-f16fbebdb022",
   "metadata": {},
   "outputs": [
    {
     "name": "stdout",
     "output_type": "stream",
     "text": [
      "1.04816271830125\n"
     ]
    }
   ],
   "source": [
    "# Получимь мри числа нормального распределения со средним значением 0.0 \n",
    "# и смандармным омклонением 1.0 \n",
    "ran = np.random.normal(0.0, 1.0, 3) \n",
    "print(ran.std())"
   ]
  },
  {
   "cell_type": "code",
   "execution_count": 380,
   "id": "64c33a29-89b5-45ae-9e87-9b95248dd8c2",
   "metadata": {},
   "outputs": [
    {
     "data": {
      "text/plain": [
       "array([1.9529544 , 1.97586914, 1.9170291 ])"
      ]
     },
     "execution_count": 380,
     "metadata": {},
     "output_type": "execute_result"
    }
   ],
   "source": [
    "# Получимь три числа, коморые будум бoльшe или равны 1.0 и меньше 2.0\n",
    "np.random.uniform(1.0, 3.0, 3) "
   ]
  }
 ],
 "metadata": {
  "kernelspec": {
   "display_name": "Python 3 (ipykernel)",
   "language": "python",
   "name": "python3"
  },
  "language_info": {
   "codemirror_mode": {
    "name": "ipython",
    "version": 3
   },
   "file_extension": ".py",
   "mimetype": "text/x-python",
   "name": "python",
   "nbconvert_exporter": "python",
   "pygments_lexer": "ipython3",
   "version": "3.12.4"
  }
 },
 "nbformat": 4,
 "nbformat_minor": 5
}
