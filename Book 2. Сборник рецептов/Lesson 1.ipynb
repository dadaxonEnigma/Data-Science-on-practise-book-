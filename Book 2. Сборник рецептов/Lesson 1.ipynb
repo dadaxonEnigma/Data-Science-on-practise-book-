{
 "cells": [
  {
   "cell_type": "markdown",
   "id": "ff582142-f07a-4098-a7b0-7215827fc9eb",
   "metadata": {},
   "source": [
    "### 1.1 Создание вектора"
   ]
  },
  {
   "cell_type": "code",
   "execution_count": 3,
   "id": "53a8e759-ccd2-4b57-bc49-3d971d6cece6",
   "metadata": {},
   "outputs": [],
   "source": [
    "import numpy as np"
   ]
  },
  {
   "cell_type": "code",
   "execution_count": 19,
   "id": "1bf9cb85-d90d-49b1-bb93-43bda83d0135",
   "metadata": {},
   "outputs": [
    {
     "data": {
      "text/plain": [
       "(array([1, 2, 3]),\n",
       " array([[1],\n",
       "        [2],\n",
       "        [3]]))"
      ]
     },
     "execution_count": 19,
     "metadata": {},
     "output_type": "execute_result"
    }
   ],
   "source": [
    "vector_rw = np.array([1,2,3])\n",
    "vector_column = np.array([[1],\n",
    "                         [2],\n",
    "                         [3]])\n",
    "vector_rw, vector_column"
   ]
  },
  {
   "cell_type": "markdown",
   "id": "124178af-d361-4cc9-a266-93652f906d4d",
   "metadata": {},
   "source": [
    "### 1.2 Создание матрицы"
   ]
  },
  {
   "cell_type": "code",
   "execution_count": 39,
   "id": "f7c2abb4-5f86-4035-b6aa-959b7999a9c3",
   "metadata": {},
   "outputs": [
    {
     "data": {
      "text/plain": [
       "(numpy.ndarray, numpy.matrix)"
      ]
     },
     "execution_count": 39,
     "metadata": {},
     "output_type": "execute_result"
    }
   ],
   "source": [
    "# Способ 1\n",
    "matrix = np.array([[1,2],\n",
    "                 [1,2],\n",
    "                 [1,2]])\n",
    "matrix\n",
    "\n",
    "# Способ 2\n",
    "matrix_object = np.mat([[1,2],\n",
    "                         [1,2],\n",
    "                         [1,2]])\n",
    "\n",
    "type(matrix), type(matrix_object)"
   ]
  },
  {
   "cell_type": "markdown",
   "id": "ee699415-954d-4be2-8b62-ed4a4bc705c3",
   "metadata": {},
   "source": [
    "### 1.3 Создание разреженной матрицы"
   ]
  },
  {
   "cell_type": "code",
   "execution_count": 50,
   "id": "6f1b173d-0da8-49ff-a9bf-9fdf154c0d46",
   "metadata": {},
   "outputs": [
    {
     "name": "stdout",
     "output_type": "stream",
     "text": [
      "  (1, 1)\t1\n",
      "  (2, 0)\t3\n"
     ]
    }
   ],
   "source": [
    "from scipy import sparse\n",
    "sparse_matrix = np.array([[0,0],\n",
    "                          [0,1],\n",
    "                          [3,0],])\n",
    "csr_matrix = sparse.csr_matrix(sparse_matrix)\n",
    "print(csr_matrix)"
   ]
  },
  {
   "cell_type": "code",
   "execution_count": 86,
   "id": "c93550f7-4ec5-41d5-a3a6-4c193fe8aad7",
   "metadata": {},
   "outputs": [
    {
     "name": "stdout",
     "output_type": "stream",
     "text": [
      "  (2, 0)\t2\n",
      "  (1, 5)\t5\n",
      "  (2, 8)\t6\n"
     ]
    }
   ],
   "source": [
    "matrix_large = np.array([[0,0,0,0,0,0,0,0,0,0],\n",
    "                        [0,0,0,0,0,5,0,0,0,0],\n",
    "                        [2,0,0,0,0,0,0,0,6,0],])\n",
    "matrix_large_csr = sparse.csc_matrix(matrix_large)\n",
    "print(matrix_large_csr)"
   ]
  },
  {
   "cell_type": "markdown",
   "id": "54e8e108-53c8-44fc-b2ac-e0799640decb",
   "metadata": {},
   "source": [
    "### 1.4 Предварительноe распределение массивов в Numpy (np.zeros) (np.full(shape,fill_value))"
   ]
  },
  {
   "cell_type": "code",
   "execution_count": 99,
   "id": "5a633497-d00b-42bc-9163-157771ed6081",
   "metadata": {},
   "outputs": [
    {
     "data": {
      "text/plain": [
       "(array([0., 0., 0., 0., 0.]),\n",
       " array([[2, 2, 2],\n",
       "        [2, 2, 2],\n",
       "        [2, 2, 2]]))"
      ]
     },
     "execution_count": 99,
     "metadata": {},
     "output_type": "execute_result"
    }
   ],
   "source": [
    "vector = np.zeros(shape=5)\n",
    "matrix = np.full(shape=(3,3), fill_value=2)\n",
    "vector, matrix"
   ]
  },
  {
   "cell_type": "markdown",
   "id": "bbcd8e73-01b4-464c-8992-70d62ee8ec71",
   "metadata": {},
   "source": [
    "### 1.5 Обращение к элементу массива"
   ]
  },
  {
   "cell_type": "code",
   "execution_count": 220,
   "id": "94949ba0-757f-4107-99cf-4df1ea42095d",
   "metadata": {},
   "outputs": [
    {
     "data": {
      "text/plain": [
       "6"
      ]
     },
     "execution_count": 220,
     "metadata": {},
     "output_type": "execute_result"
    }
   ],
   "source": [
    "vector = np.array([1,2,3,4,5,6,7,8,9,10])\n",
    "matrix = np.array([[1,2,3,4],\n",
    "                  [5,6,7,8],\n",
    "                  [9,10,11,12],])\n",
    "matrix[1,1]"
   ]
  },
  {
   "cell_type": "code",
   "execution_count": 218,
   "id": "ceeaf555-6025-4a2f-991e-022dcd109fc8",
   "metadata": {},
   "outputs": [
    {
     "data": {
      "text/plain": [
       "array([[ 4,  5,  6,  8],\n",
       "       [ 7,  8,  9, 10]])"
      ]
     },
     "execution_count": 218,
     "metadata": {},
     "output_type": "execute_result"
    }
   ],
   "source": [
    "vector[1::2]\n",
    "matrix[1:,:]"
   ]
  },
  {
   "cell_type": "markdown",
   "id": "05001716-c82f-4011-a905-d57d7502c3a3",
   "metadata": {},
   "source": [
    "### 1.6 Описание матрицы "
   ]
  },
  {
   "cell_type": "code",
   "execution_count": 144,
   "id": "6c10de4f-27ce-4493-8eb2-f82b9ed9b4ad",
   "metadata": {},
   "outputs": [
    {
     "data": {
      "text/plain": [
       "((3, 3), 9, 2)"
      ]
     },
     "execution_count": 144,
     "metadata": {},
     "output_type": "execute_result"
    }
   ],
   "source": [
    "#shape \n",
    "matrix.shape, matrix.size, matrix.ndim"
   ]
  },
  {
   "cell_type": "markdown",
   "id": "9693290c-3791-40a2-8c47-4fcb5c53ab30",
   "metadata": {},
   "source": [
    "### 1.7 Использование функции для каждого элемента"
   ]
  },
  {
   "cell_type": "code",
   "execution_count": 157,
   "id": "4cfc77e2-0987-4abd-aedc-dcfcf373f865",
   "metadata": {},
   "outputs": [
    {
     "data": {
      "text/plain": [
       "array([[11, 12, 13],\n",
       "       [14, 15, 16],\n",
       "       [17, 18, 19]])"
      ]
     },
     "execution_count": 157,
     "metadata": {},
     "output_type": "execute_result"
    }
   ],
   "source": [
    "add_100 = lambda x: x + 100\n",
    "\n",
    "vectorized_add_100 = np.vectorize(add_100)\n",
    "vectorized_add_100(matrix)\n",
    "\n",
    "# метод транслирование\n",
    "matrix + 10"
   ]
  },
  {
   "cell_type": "markdown",
   "id": "aeadc8a2-4201-415c-82bf-d3bc8d3419ad",
   "metadata": {},
   "source": [
    "## 1.8 Поиск наибольших и наименьших значени"
   ]
  },
  {
   "cell_type": "code",
   "execution_count": 185,
   "id": "48bc8331-3a1d-4280-9ef2-e6139289d1a7",
   "metadata": {},
   "outputs": [
    {
     "name": "stdout",
     "output_type": "stream",
     "text": [
      "[3 6 9]\n",
      "[7 8 9]\n"
     ]
    }
   ],
   "source": [
    "np.max(matrix), np.min(matrix)\n",
    "print(np.max(matrix,axis=1))\n",
    "print(np.max(matrix,axis=0))"
   ]
  },
  {
   "cell_type": "markdown",
   "id": "945bc73f-5495-43f2-a3c6-0180f2f258db",
   "metadata": {},
   "source": [
    "### 1.9 Вычиление среднего значения, дисперсии и стандартного отклонения"
   ]
  },
  {
   "cell_type": "code",
   "execution_count": 207,
   "id": "b2f1f4ad-1b6f-4849-a90a-da43f2f8cbb7",
   "metadata": {},
   "outputs": [
    {
     "name": "stdout",
     "output_type": "stream",
     "text": [
      "Mean: 1.0\n",
      "Mean: 0.0\n",
      "Mean: 0.0\n"
     ]
    }
   ],
   "source": [
    "norm_matrix = np.array([[1,1,1]])\n",
    "mean = np.mean(norm_matrix)\n",
    "dis = np.var(norm_matrix)\n",
    "std = np.std(norm_matrix)\n",
    "print(f'Mean: {mean}')\n",
    "print(f'Mean: {dis}')\n",
    "print(f'Mean: {std}')"
   ]
  },
  {
   "cell_type": "markdown",
   "id": "d22fca68-89b0-468f-835b-e3ca5db38938",
   "metadata": {},
   "source": [
    "### 1.10 Изменение формы массива"
   ]
  },
  {
   "cell_type": "code",
   "execution_count": 234,
   "id": "182093f0-1c83-4e9a-be78-944e8757a29d",
   "metadata": {},
   "outputs": [
    {
     "data": {
      "text/plain": [
       "array([[ 1,  2],\n",
       "       [ 3,  4],\n",
       "       [ 5,  6],\n",
       "       [ 7,  8],\n",
       "       [ 9, 10],\n",
       "       [11, 12]])"
      ]
     },
     "execution_count": 234,
     "metadata": {},
     "output_type": "execute_result"
    }
   ],
   "source": [
    "reshaped_matrix = matrix.reshape(6,2)\n",
    "reshaped_matrix"
   ]
  },
  {
   "cell_type": "code",
   "execution_count": 246,
   "id": "531b9116-9491-4d9b-aa36-d3977c2be7f4",
   "metadata": {},
   "outputs": [
    {
     "data": {
      "text/plain": [
       "array([[ 1,  2,  3,  4,  5,  6,  7,  8,  9, 10, 11, 12]])"
      ]
     },
     "execution_count": 246,
     "metadata": {},
     "output_type": "execute_result"
    }
   ],
   "source": [
    "reshaped_matrix = matrix.reshape(1,-1)\n",
    "reshaped_matrix"
   ]
  }
 ],
 "metadata": {
  "kernelspec": {
   "display_name": "Python 3 (ipykernel)",
   "language": "python",
   "name": "python3"
  },
  "language_info": {
   "codemirror_mode": {
    "name": "ipython",
    "version": 3
   },
   "file_extension": ".py",
   "mimetype": "text/x-python",
   "name": "python",
   "nbconvert_exporter": "python",
   "pygments_lexer": "ipython3",
   "version": "3.12.4"
  }
 },
 "nbformat": 4,
 "nbformat_minor": 5
}
